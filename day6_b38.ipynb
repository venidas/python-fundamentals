{
 "cells": [
  {
   "cell_type": "code",
   "execution_count": 8,
   "metadata": {},
   "outputs": [],
   "source": [
    "students=['vennila','latha','akshayaa','arshin','siva','yadharshan','das']"
   ]
  },
  {
   "cell_type": "code",
   "execution_count": 9,
   "metadata": {},
   "outputs": [
    {
     "name": "stdout",
     "output_type": "stream",
     "text": [
      "['vennila', 'latha', 'akshayaa', 'arshin', 'siva', 'yadharshan', 'das']\n"
     ]
    }
   ],
   "source": [
    "print(students)"
   ]
  },
  {
   "cell_type": "code",
   "execution_count": 10,
   "metadata": {},
   "outputs": [
    {
     "data": {
      "text/plain": [
       "list"
      ]
     },
     "execution_count": 10,
     "metadata": {},
     "output_type": "execute_result"
    }
   ],
   "source": [
    "type(students)"
   ]
  },
  {
   "cell_type": "code",
   "execution_count": 13,
   "metadata": {},
   "outputs": [
    {
     "name": "stdout",
     "output_type": "stream",
     "text": [
      "keep up the good work,Vennila\n"
     ]
    }
   ],
   "source": [
    "print(f\"keep up the good work,{students[0].title()}\")"
   ]
  },
  {
   "cell_type": "code",
   "execution_count": 14,
   "metadata": {},
   "outputs": [
    {
     "name": "stdout",
     "output_type": "stream",
     "text": [
      "keep up the good work,Latha\n"
     ]
    }
   ],
   "source": [
    "print(f\"keep up the good work,{students[1].title()}\")"
   ]
  },
  {
   "cell_type": "code",
   "execution_count": null,
   "metadata": {},
   "outputs": [],
   "source": [
    "introduvtion for loops"
   ]
  },
  {
   "cell_type": "code",
   "execution_count": null,
   "metadata": {},
   "outputs": [],
   "source": [
    "general syntax"
   ]
  },
  {
   "cell_type": "code",
   "execution_count": null,
   "metadata": {},
   "outputs": [],
   "source": [
    "for tempvar in mainvar:"
   ]
  },
  {
   "cell_type": "code",
   "execution_count": null,
   "metadata": {},
   "outputs": [],
   "source": [
    "    print(tempvar)"
   ]
  },
  {
   "cell_type": "code",
   "execution_count": null,
   "metadata": {},
   "outputs": [],
   "source": [
    "#tempvar can be x,y,z"
   ]
  },
  {
   "cell_type": "code",
   "execution_count": null,
   "metadata": {},
   "outputs": [],
   "source": [
    "#students is a main var"
   ]
  },
  {
   "cell_type": "code",
   "execution_count": null,
   "metadata": {},
   "outputs": [],
   "source": [
    "tabspace before print is a indentation"
   ]
  },
  {
   "cell_type": "code",
   "execution_count": 19,
   "metadata": {},
   "outputs": [
    {
     "name": "stdout",
     "output_type": "stream",
     "text": [
      "keep up the good work,Vennila\n",
      "keep up the good work,Latha\n",
      "keep up the good work,Akshayaa\n",
      "keep up the good work,Arshin\n",
      "keep up the good work,Siva\n",
      "keep up the good work,Yadharshan\n",
      "keep up the good work,Das\n"
     ]
    }
   ],
   "source": [
    "for x in students:\n",
    "    print(f\"keep up the good work,{x.title()}\")"
   ]
  },
  {
   "cell_type": "code",
   "execution_count": null,
   "metadata": {},
   "outputs": [],
   "source": [
    "#enhancement of the code:"
   ]
  },
  {
   "cell_type": "code",
   "execution_count": 24,
   "metadata": {},
   "outputs": [
    {
     "name": "stdout",
     "output_type": "stream",
     "text": [
      "keep up the good work,Vennila\n",
      "will be looking forwaed to recieve your practice file of today,Vennila\n",
      "\n",
      "keep up the good work,Latha\n",
      "will be looking forwaed to recieve your practice file of today,Latha\n",
      "\n",
      "keep up the good work,Akshayaa\n",
      "will be looking forwaed to recieve your practice file of today,Akshayaa\n",
      "\n",
      "keep up the good work,Arshin\n",
      "will be looking forwaed to recieve your practice file of today,Arshin\n",
      "\n",
      "keep up the good work,Siva\n",
      "will be looking forwaed to recieve your practice file of today,Siva\n",
      "\n",
      "keep up the good work,Yadharshan\n",
      "will be looking forwaed to recieve your practice file of today,Yadharshan\n",
      "\n",
      "keep up the good work,Das\n",
      "will be looking forwaed to recieve your practice file of today,Das\n",
      "\n"
     ]
    }
   ],
   "source": [
    "for a in students:\n",
    "    print(f\"keep up the good work,{a.title()}\")\n",
    "    \n",
    "    print(f\"will be looking forwaed to recieve your practice file of today,{a.title()}.\\n\")"
   ]
  },
  {
   "cell_type": "code",
   "execution_count": 27,
   "metadata": {},
   "outputs": [
    {
     "name": "stdout",
     "output_type": "stream",
     "text": [
      "keep up ur good work,Vennila\n",
      "waiting for your practice file of today,Vennila\n",
      "\n",
      "keep up ur good work,Latha\n",
      "waiting for your practice file of today,Latha\n",
      "\n",
      "keep up ur good work,Akshayaa\n",
      "waiting for your practice file of today,Akshayaa\n",
      "\n",
      "keep up ur good work,Arshin\n",
      "waiting for your practice file of today,Arshin\n",
      "\n",
      "keep up ur good work,Siva\n",
      "waiting for your practice file of today,Siva\n",
      "\n",
      "keep up ur good work,Yadharshan\n",
      "waiting for your practice file of today,Yadharshan\n",
      "\n",
      "keep up ur good work,Das\n",
      "waiting for your practice file of today,Das\n",
      "\n",
      "thank u all of u for showing interest in python\n"
     ]
    }
   ],
   "source": [
    "for a in students:\n",
    "    print(f\"keep up ur good work,{a.title()}\")\n",
    "    print(f\"waiting for your practice file of today,{a.title()}\\n\")\n",
    "print(f\"thank u all of u for showing interest in python\")\n"
   ]
  },
  {
   "cell_type": "code",
   "execution_count": null,
   "metadata": {},
   "outputs": [],
   "source": [
    "interview qns:"
   ]
  },
  {
   "cell_type": "code",
   "execution_count": null,
   "metadata": {},
   "outputs": [],
   "source": [
    "do we have to  give intetndation in a for loop?"
   ]
  },
  {
   "cell_type": "code",
   "execution_count": null,
   "metadata": {},
   "outputs": [],
   "source": [
    "yes"
   ]
  },
  {
   "cell_type": "code",
   "execution_count": null,
   "metadata": {},
   "outputs": [],
   "source": []
  },
  {
   "cell_type": "code",
   "execution_count": null,
   "metadata": {},
   "outputs": [],
   "source": []
  },
  {
   "cell_type": "code",
   "execution_count": null,
   "metadata": {},
   "outputs": [],
   "source": []
  },
  {
   "cell_type": "code",
   "execution_count": null,
   "metadata": {},
   "outputs": [],
   "source": []
  },
  {
   "cell_type": "code",
   "execution_count": null,
   "metadata": {},
   "outputs": [],
   "source": []
  }
 ],
 "metadata": {
  "kernelspec": {
   "display_name": "Python 3",
   "language": "python",
   "name": "python3"
  },
  "language_info": {
   "codemirror_mode": {
    "name": "ipython",
    "version": 3
   },
   "file_extension": ".py",
   "mimetype": "text/x-python",
   "name": "python",
   "nbconvert_exporter": "python",
   "pygments_lexer": "ipython3",
   "version": "3.8.5"
  }
 },
 "nbformat": 4,
 "nbformat_minor": 4
}
